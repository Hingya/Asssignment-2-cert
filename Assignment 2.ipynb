{
 "cells": [
  {
   "cell_type": "markdown",
   "id": "4f99fe28",
   "metadata": {},
   "source": [
    "## Map and Lambda Function fibonacci series"
   ]
  },
  {
   "cell_type": "code",
   "execution_count": 1,
   "id": "5825f87a",
   "metadata": {},
   "outputs": [
    {
     "name": "stdout",
     "output_type": "stream",
     "text": [
      "5\n",
      "[0, 1, 1, 8, 27]\n"
     ]
    }
   ],
   "source": [
    "cube = lambda x:pow(x,3)\n",
    "def fibonacci(n):\n",
    "    lis=[0,1]\n",
    "    for i in range(2,n):\n",
    "        lis.append(lis[i-2]+lis[i-1])\n",
    "    return(lis[0:n])\n",
    "    # return a list of fibonacci numbers\n",
    "\n",
    "if __name__ == '__main__':\n",
    "    n = int(input())\n",
    "    print(list(map(cube, fibonacci(n))))"
   ]
  },
  {
   "cell_type": "markdown",
   "id": "fbdd2d2a",
   "metadata": {},
   "source": [
    "## List Comprehensions"
   ]
  },
  {
   "cell_type": "code",
   "execution_count": 2,
   "id": "9689a8fb",
   "metadata": {},
   "outputs": [
    {
     "name": "stdout",
     "output_type": "stream",
     "text": [
      "2\n",
      "2\n",
      "2\n",
      "2\n",
      "[[0, 0, 0], [0, 0, 1], [0, 1, 0], [0, 1, 2], [0, 2, 1], [0, 2, 2], [1, 0, 0], [1, 0, 2], [1, 1, 1], [1, 1, 2], [1, 2, 0], [1, 2, 1], [1, 2, 2], [2, 0, 1], [2, 0, 2], [2, 1, 0], [2, 1, 1], [2, 1, 2], [2, 2, 0], [2, 2, 1], [2, 2, 2]]\n"
     ]
    }
   ],
   "source": [
    "if __name__ == '__main__':\n",
    "    x = int(input())\n",
    "    y = int(input())\n",
    "    z = int(input())\n",
    "    n = int(input())\n",
    "    res=[]\n",
    "    for i in range (x+1):\n",
    "        for j in range (y+1):\n",
    "            for k in range (z+1):\n",
    "                if i+j+k !=n:\n",
    "                    res.append([i,j,k])\n",
    "    print(res)"
   ]
  },
  {
   "cell_type": "markdown",
   "id": "b69b5efc",
   "metadata": {},
   "source": [
    "## Matching Specific String"
   ]
  },
  {
   "cell_type": "code",
   "execution_count": 3,
   "id": "a2968055",
   "metadata": {},
   "outputs": [
    {
     "name": "stdout",
     "output_type": "stream",
     "text": [
      "hackerrank\n",
      "Number of matches : 1\n"
     ]
    }
   ],
   "source": [
    "Regex_Pattern = r\"hackerrank\"\n",
    "\n",
    "import re\n",
    "\n",
    "Test_String = input()\n",
    "\n",
    "match = re.findall(Regex_Pattern, Test_String)\n",
    "\n",
    "print(\"Number of matches :\", len(match))"
   ]
  },
  {
   "cell_type": "markdown",
   "id": "7838a3cb",
   "metadata": {},
   "source": [
    "## Matching Digits & Non-Digit Characters"
   ]
  },
  {
   "cell_type": "code",
   "execution_count": 4,
   "id": "2bc1ae6d",
   "metadata": {},
   "outputs": [
    {
     "name": "stdout",
     "output_type": "stream",
     "text": [
      "02-06-2000\n",
      "true\n"
     ]
    }
   ],
   "source": [
    "Regex_Pattern = r\"^\\d{2}\\D\\d{2}\\D\\d{4,}$\"\n",
    "\n",
    "import re\n",
    "\n",
    "print(str(bool(re.search(Regex_Pattern, input()))).lower())"
   ]
  },
  {
   "cell_type": "markdown",
   "id": "fc86f455",
   "metadata": {},
   "source": [
    "## Matching Specific Characters"
   ]
  },
  {
   "cell_type": "code",
   "execution_count": 5,
   "id": "887e1f5b",
   "metadata": {},
   "outputs": [
    {
     "name": "stdout",
     "output_type": "stream",
     "text": [
      "1203x.\n",
      "true\n"
     ]
    }
   ],
   "source": [
    "Regex_Pattern = r'1203x.'\n",
    "\n",
    "import re\n",
    "\n",
    "print(str(bool(re.search(Regex_Pattern, input()))).lower())"
   ]
  },
  {
   "cell_type": "markdown",
   "id": "72a657d4",
   "metadata": {},
   "source": [
    "## Matching Character Ranges"
   ]
  },
  {
   "cell_type": "code",
   "execution_count": 6,
   "id": "6ea84230",
   "metadata": {},
   "outputs": [
    {
     "name": "stdout",
     "output_type": "stream",
     "text": [
      "h4CkR\n",
      "true\n"
     ]
    }
   ],
   "source": [
    "Regex_Pattern = r'h4CkR'\n",
    "\n",
    "import re\n",
    "\n",
    "print(str(bool(re.search(Regex_Pattern, input()))).lower())"
   ]
  },
  {
   "cell_type": "markdown",
   "id": "e7d52391",
   "metadata": {},
   "source": [
    "## Matching Start & End"
   ]
  },
  {
   "cell_type": "code",
   "execution_count": 7,
   "id": "60e8af9e",
   "metadata": {},
   "outputs": [
    {
     "name": "stdout",
     "output_type": "stream",
     "text": [
      "0qwer.\n",
      "true\n"
     ]
    }
   ],
   "source": [
    "Regex_Pattern = r\"0qwer.\"\n",
    "import re\n",
    "\n",
    "print(str(bool(re.search(Regex_Pattern, input()))).lower())"
   ]
  },
  {
   "cell_type": "code",
   "execution_count": null,
   "id": "54939b4b",
   "metadata": {},
   "outputs": [],
   "source": []
  }
 ],
 "metadata": {
  "kernelspec": {
   "display_name": "Python 3 (ipykernel)",
   "language": "python",
   "name": "python3"
  },
  "language_info": {
   "codemirror_mode": {
    "name": "ipython",
    "version": 3
   },
   "file_extension": ".py",
   "mimetype": "text/x-python",
   "name": "python",
   "nbconvert_exporter": "python",
   "pygments_lexer": "ipython3",
   "version": "3.10.1"
  }
 },
 "nbformat": 4,
 "nbformat_minor": 5
}
